{
  "nbformat": 4,
  "nbformat_minor": 0,
  "metadata": {
    "colab": {
      "provenance": []
    },
    "kernelspec": {
      "name": "python3",
      "display_name": "Python 3"
    },
    "language_info": {
      "name": "python"
    }
  },
  "cells": [
    {
      "cell_type": "markdown",
      "source": [
        " Importing Libraries"
      ],
      "metadata": {
        "id": "ewtCu7lZBY2j"
      }
    },
    {
      "cell_type": "code",
      "execution_count": 30,
      "metadata": {
        "id": "5y3iVqm4xq7G"
      },
      "outputs": [],
      "source": [
        "import numpy as np\n",
        "import pandas as pd\n",
        "import xgboost as xg\n",
        "from sklearn.model_selection import train_test_split\n",
        "from sklearn.metrics import accuracy_score \n",
        "from xgboost import XGBRegressor\n",
        "from sklearn.ensemble import RandomForestRegressor\n",
        "from sklearn.metrics import r2_score"
      ]
    },
    {
      "cell_type": "code",
      "source": [
        "gld_data = pd.read_csv(\"gld_price_data.csv\")"
      ],
      "metadata": {
        "id": "d3Nvxmt06X3t"
      },
      "execution_count": 6,
      "outputs": []
    },
    {
      "cell_type": "code",
      "source": [
        "gld_data.head(6)"
      ],
      "metadata": {
        "colab": {
          "base_uri": "https://localhost:8080/",
          "height": 238
        },
        "id": "em6PcarG7E7j",
        "outputId": "24da9515-07c0-4b92-c424-47b262d92a0e"
      },
      "execution_count": 7,
      "outputs": [
        {
          "output_type": "execute_result",
          "data": {
            "text/plain": [
              "       Date          SPX        GLD        USO     SLV   EUR/USD\n",
              "0  1/2/2008  1447.160034  84.860001  78.470001  15.180  1.471692\n",
              "1  1/3/2008  1447.160034  85.570000  78.370003  15.285  1.474491\n",
              "2  1/4/2008  1411.630005  85.129997  77.309998  15.167  1.475492\n",
              "3  1/7/2008  1416.180054  84.769997  75.500000  15.053  1.468299\n",
              "4  1/8/2008  1390.189941  86.779999  76.059998  15.590  1.557099\n",
              "5  1/9/2008  1409.130005  86.550003  75.250000  15.520  1.466405"
            ],
            "text/html": [
              "\n",
              "  <div id=\"df-25984ab3-3712-49b2-b1e6-edc3d04e754f\">\n",
              "    <div class=\"colab-df-container\">\n",
              "      <div>\n",
              "<style scoped>\n",
              "    .dataframe tbody tr th:only-of-type {\n",
              "        vertical-align: middle;\n",
              "    }\n",
              "\n",
              "    .dataframe tbody tr th {\n",
              "        vertical-align: top;\n",
              "    }\n",
              "\n",
              "    .dataframe thead th {\n",
              "        text-align: right;\n",
              "    }\n",
              "</style>\n",
              "<table border=\"1\" class=\"dataframe\">\n",
              "  <thead>\n",
              "    <tr style=\"text-align: right;\">\n",
              "      <th></th>\n",
              "      <th>Date</th>\n",
              "      <th>SPX</th>\n",
              "      <th>GLD</th>\n",
              "      <th>USO</th>\n",
              "      <th>SLV</th>\n",
              "      <th>EUR/USD</th>\n",
              "    </tr>\n",
              "  </thead>\n",
              "  <tbody>\n",
              "    <tr>\n",
              "      <th>0</th>\n",
              "      <td>1/2/2008</td>\n",
              "      <td>1447.160034</td>\n",
              "      <td>84.860001</td>\n",
              "      <td>78.470001</td>\n",
              "      <td>15.180</td>\n",
              "      <td>1.471692</td>\n",
              "    </tr>\n",
              "    <tr>\n",
              "      <th>1</th>\n",
              "      <td>1/3/2008</td>\n",
              "      <td>1447.160034</td>\n",
              "      <td>85.570000</td>\n",
              "      <td>78.370003</td>\n",
              "      <td>15.285</td>\n",
              "      <td>1.474491</td>\n",
              "    </tr>\n",
              "    <tr>\n",
              "      <th>2</th>\n",
              "      <td>1/4/2008</td>\n",
              "      <td>1411.630005</td>\n",
              "      <td>85.129997</td>\n",
              "      <td>77.309998</td>\n",
              "      <td>15.167</td>\n",
              "      <td>1.475492</td>\n",
              "    </tr>\n",
              "    <tr>\n",
              "      <th>3</th>\n",
              "      <td>1/7/2008</td>\n",
              "      <td>1416.180054</td>\n",
              "      <td>84.769997</td>\n",
              "      <td>75.500000</td>\n",
              "      <td>15.053</td>\n",
              "      <td>1.468299</td>\n",
              "    </tr>\n",
              "    <tr>\n",
              "      <th>4</th>\n",
              "      <td>1/8/2008</td>\n",
              "      <td>1390.189941</td>\n",
              "      <td>86.779999</td>\n",
              "      <td>76.059998</td>\n",
              "      <td>15.590</td>\n",
              "      <td>1.557099</td>\n",
              "    </tr>\n",
              "    <tr>\n",
              "      <th>5</th>\n",
              "      <td>1/9/2008</td>\n",
              "      <td>1409.130005</td>\n",
              "      <td>86.550003</td>\n",
              "      <td>75.250000</td>\n",
              "      <td>15.520</td>\n",
              "      <td>1.466405</td>\n",
              "    </tr>\n",
              "  </tbody>\n",
              "</table>\n",
              "</div>\n",
              "      <button class=\"colab-df-convert\" onclick=\"convertToInteractive('df-25984ab3-3712-49b2-b1e6-edc3d04e754f')\"\n",
              "              title=\"Convert this dataframe to an interactive table.\"\n",
              "              style=\"display:none;\">\n",
              "        \n",
              "  <svg xmlns=\"http://www.w3.org/2000/svg\" height=\"24px\"viewBox=\"0 0 24 24\"\n",
              "       width=\"24px\">\n",
              "    <path d=\"M0 0h24v24H0V0z\" fill=\"none\"/>\n",
              "    <path d=\"M18.56 5.44l.94 2.06.94-2.06 2.06-.94-2.06-.94-.94-2.06-.94 2.06-2.06.94zm-11 1L8.5 8.5l.94-2.06 2.06-.94-2.06-.94L8.5 2.5l-.94 2.06-2.06.94zm10 10l.94 2.06.94-2.06 2.06-.94-2.06-.94-.94-2.06-.94 2.06-2.06.94z\"/><path d=\"M17.41 7.96l-1.37-1.37c-.4-.4-.92-.59-1.43-.59-.52 0-1.04.2-1.43.59L10.3 9.45l-7.72 7.72c-.78.78-.78 2.05 0 2.83L4 21.41c.39.39.9.59 1.41.59.51 0 1.02-.2 1.41-.59l7.78-7.78 2.81-2.81c.8-.78.8-2.07 0-2.86zM5.41 20L4 18.59l7.72-7.72 1.47 1.35L5.41 20z\"/>\n",
              "  </svg>\n",
              "      </button>\n",
              "      \n",
              "  <style>\n",
              "    .colab-df-container {\n",
              "      display:flex;\n",
              "      flex-wrap:wrap;\n",
              "      gap: 12px;\n",
              "    }\n",
              "\n",
              "    .colab-df-convert {\n",
              "      background-color: #E8F0FE;\n",
              "      border: none;\n",
              "      border-radius: 50%;\n",
              "      cursor: pointer;\n",
              "      display: none;\n",
              "      fill: #1967D2;\n",
              "      height: 32px;\n",
              "      padding: 0 0 0 0;\n",
              "      width: 32px;\n",
              "    }\n",
              "\n",
              "    .colab-df-convert:hover {\n",
              "      background-color: #E2EBFA;\n",
              "      box-shadow: 0px 1px 2px rgba(60, 64, 67, 0.3), 0px 1px 3px 1px rgba(60, 64, 67, 0.15);\n",
              "      fill: #174EA6;\n",
              "    }\n",
              "\n",
              "    [theme=dark] .colab-df-convert {\n",
              "      background-color: #3B4455;\n",
              "      fill: #D2E3FC;\n",
              "    }\n",
              "\n",
              "    [theme=dark] .colab-df-convert:hover {\n",
              "      background-color: #434B5C;\n",
              "      box-shadow: 0px 1px 3px 1px rgba(0, 0, 0, 0.15);\n",
              "      filter: drop-shadow(0px 1px 2px rgba(0, 0, 0, 0.3));\n",
              "      fill: #FFFFFF;\n",
              "    }\n",
              "  </style>\n",
              "\n",
              "      <script>\n",
              "        const buttonEl =\n",
              "          document.querySelector('#df-25984ab3-3712-49b2-b1e6-edc3d04e754f button.colab-df-convert');\n",
              "        buttonEl.style.display =\n",
              "          google.colab.kernel.accessAllowed ? 'block' : 'none';\n",
              "\n",
              "        async function convertToInteractive(key) {\n",
              "          const element = document.querySelector('#df-25984ab3-3712-49b2-b1e6-edc3d04e754f');\n",
              "          const dataTable =\n",
              "            await google.colab.kernel.invokeFunction('convertToInteractive',\n",
              "                                                     [key], {});\n",
              "          if (!dataTable) return;\n",
              "\n",
              "          const docLinkHtml = 'Like what you see? Visit the ' +\n",
              "            '<a target=\"_blank\" href=https://colab.research.google.com/notebooks/data_table.ipynb>data table notebook</a>'\n",
              "            + ' to learn more about interactive tables.';\n",
              "          element.innerHTML = '';\n",
              "          dataTable['output_type'] = 'display_data';\n",
              "          await google.colab.output.renderOutput(dataTable, element);\n",
              "          const docLink = document.createElement('div');\n",
              "          docLink.innerHTML = docLinkHtml;\n",
              "          element.appendChild(docLink);\n",
              "        }\n",
              "      </script>\n",
              "    </div>\n",
              "  </div>\n",
              "  "
            ]
          },
          "metadata": {},
          "execution_count": 7
        }
      ]
    },
    {
      "cell_type": "code",
      "source": [
        "gld_data.isnull().sum()"
      ],
      "metadata": {
        "colab": {
          "base_uri": "https://localhost:8080/"
        },
        "id": "l58OoCNa7TDr",
        "outputId": "aeeae62e-ff56-4db8-fbc9-f0f4ebc5b521"
      },
      "execution_count": 8,
      "outputs": [
        {
          "output_type": "execute_result",
          "data": {
            "text/plain": [
              "Date       0\n",
              "SPX        0\n",
              "GLD        0\n",
              "USO        0\n",
              "SLV        0\n",
              "EUR/USD    0\n",
              "dtype: int64"
            ]
          },
          "metadata": {},
          "execution_count": 8
        }
      ]
    },
    {
      "cell_type": "code",
      "source": [
        "gld_data.shape"
      ],
      "metadata": {
        "colab": {
          "base_uri": "https://localhost:8080/"
        },
        "id": "LVn_018c7ZPO",
        "outputId": "9beda9a0-fa5f-4697-a3f8-6924da2a0ef5"
      },
      "execution_count": 9,
      "outputs": [
        {
          "output_type": "execute_result",
          "data": {
            "text/plain": [
              "(2290, 6)"
            ]
          },
          "metadata": {},
          "execution_count": 9
        }
      ]
    },
    {
      "cell_type": "code",
      "source": [
        "import matplotlib.pyplot as plt\n",
        "import seaborn as sns\n",
        "plt.figure(figsize=(5,5))\n",
        "sns.distplot(gld_data[\"GLD\"])\n",
        "plt.show()"
      ],
      "metadata": {
        "colab": {
          "base_uri": "https://localhost:8080/",
          "height": 392
        },
        "id": "M8TRvvak7rSY",
        "outputId": "9bd6cf0b-dfe1-4fcb-cb33-8634e1e6ee7e"
      },
      "execution_count": 12,
      "outputs": [
        {
          "output_type": "stream",
          "name": "stderr",
          "text": [
            "/usr/local/lib/python3.8/dist-packages/seaborn/distributions.py:2619: FutureWarning: `distplot` is a deprecated function and will be removed in a future version. Please adapt your code to use either `displot` (a figure-level function with similar flexibility) or `histplot` (an axes-level function for histograms).\n",
            "  warnings.warn(msg, FutureWarning)\n"
          ]
        },
        {
          "output_type": "display_data",
          "data": {
            "text/plain": [
              "<Figure size 360x360 with 1 Axes>"
            ],
            "image/png": "[encoded data removed]"
          },
          "metadata": {
            "needs_background": "light"
          }
        }
      ]
    },
    {
      "cell_type": "code",
      "source": [
        "plt.figure(figsize=(5,))\n",
        "sns.distplot(gld_data[\"USO\"])\n",
        "plt.show()"
      ],
      "metadata": {
        "colab": {
          "base_uri": "https://localhost:8080/",
          "height": 443
        },
        "id": "GiJDUpyE8HQf",
        "outputId": "1393e313-d505-4016-ae4c-b292238394fb"
      },
      "execution_count": 14,
      "outputs": [
        {
          "output_type": "stream",
          "name": "stderr",
          "text": [
            "/usr/local/lib/python3.8/dist-packages/seaborn/distributions.py:2619: FutureWarning: `distplot` is a deprecated function and will be removed in a future version. Please adapt your code to use either `displot` (a figure-level function with similar flexibility) or `histplot` (an axes-level function for histograms).\n",
            "  warnings.warn(msg, FutureWarning)\n"
          ]
        },
        {
          "output_type": "display_data",
          "data": {
            "text/plain": [
              "<Figure size 360x432 with 1 Axes>"
            ],
            "image/png": "[encoded data removed]"
          },
          "metadata": {
            "needs_background": "light"
          }
        }
      ]
    },
    {
      "cell_type": "code",
      "source": [
        "gld_data[\"GLD\"].value_counts()"
      ],
      "metadata": {
        "colab": {
          "base_uri": "https://localhost:8080/"
        },
        "id": "PdlZyagr9Fux",
        "outputId": "7b0564f9-e28f-4387-acad-b2fb689596d6"
      },
      "execution_count": 15,
      "outputs": [
        {
          "output_type": "execute_result",
          "data": {
            "text/plain": [
              "115.940002    5\n",
              "117.959999    4\n",
              "122.209999    4\n",
              "126.300003    4\n",
              "124.589996    4\n",
              "             ..\n",
              "147.179993    1\n",
              "146.240005    1\n",
              "145.729996    1\n",
              "148.339996    1\n",
              "122.543800    1\n",
              "Name: GLD, Length: 1930, dtype: int64"
            ]
          },
          "metadata": {},
          "execution_count": 15
        }
      ]
    },
    {
      "cell_type": "code",
      "source": [
        "x = gld_data.drop(columns=[\"GLD\",\"Date\"],axis=1)\n",
        "y = gld_data[\"GLD\"]"
      ],
      "metadata": {
        "id": "Ony83kOS9NhU"
      },
      "execution_count": 17,
      "outputs": []
    },
    {
      "cell_type": "code",
      "source": [
        "print(x)"
      ],
      "metadata": {
        "colab": {
          "base_uri": "https://localhost:8080/"
        },
        "id": "D5ca3RWl-2pc",
        "outputId": "82866da5-2afa-4bd5-a9ad-93063674a163"
      },
      "execution_count": 19,
      "outputs": [
        {
          "output_type": "stream",
          "name": "stdout",
          "text": [
            "              SPX        USO      SLV   EUR/USD\n",
            "0     1447.160034  78.470001  15.1800  1.471692\n",
            "1     1447.160034  78.370003  15.2850  1.474491\n",
            "2     1411.630005  77.309998  15.1670  1.475492\n",
            "3     1416.180054  75.500000  15.0530  1.468299\n",
            "4     1390.189941  76.059998  15.5900  1.557099\n",
            "...           ...        ...      ...       ...\n",
            "2285  2671.919922  14.060000  15.5100  1.186789\n",
            "2286  2697.790039  14.370000  15.5300  1.184722\n",
            "2287  2723.070068  14.410000  15.7400  1.191753\n",
            "2288  2730.129883  14.380000  15.5600  1.193118\n",
            "2289  2725.780029  14.405800  15.4542  1.182033\n",
            "\n",
            "[2290 rows x 4 columns]\n"
          ]
        }
      ]
    },
    {
      "cell_type": "code",
      "source": [
        "print(y)"
      ],
      "metadata": {
        "colab": {
          "base_uri": "https://localhost:8080/"
        },
        "id": "dbncKqvf-5MX",
        "outputId": "2893c791-f8d7-43be-e873-bcaaf9101516"
      },
      "execution_count": 20,
      "outputs": [
        {
          "output_type": "stream",
          "name": "stdout",
          "text": [
            "0        84.860001\n",
            "1        85.570000\n",
            "2        85.129997\n",
            "3        84.769997\n",
            "4        86.779999\n",
            "           ...    \n",
            "2285    124.589996\n",
            "2286    124.330002\n",
            "2287    125.180000\n",
            "2288    124.489998\n",
            "2289    122.543800\n",
            "Name: GLD, Length: 2290, dtype: float64\n"
          ]
        }
      ]
    },
    {
      "cell_type": "markdown",
      "source": [
        "Splitting the Dataset"
      ],
      "metadata": {
        "id": "ESo1tcKABkMN"
      }
    },
    {
      "cell_type": "code",
      "source": [
        "x_train,x_test,y_train,y_test=train_test_split(x,y,test_size=0.2,random_state=2)\n",
        "print(x_train.shape,x_test.shape,x.shape)"
      ],
      "metadata": {
        "colab": {
          "base_uri": "https://localhost:8080/"
        },
        "id": "F5-H6Ttd_A9X",
        "outputId": "06e9b474-2991-4b82-e8eb-0ea9513a3096"
      },
      "execution_count": 21,
      "outputs": [
        {
          "output_type": "stream",
          "name": "stdout",
          "text": [
            "(1832, 4) (458, 4) (2290, 4)\n"
          ]
        }
      ]
    },
    {
      "cell_type": "markdown",
      "source": [
        "XGBRegressor"
      ],
      "metadata": {
        "id": "rIojWxSdBpWq"
      }
    },
    {
      "cell_type": "code",
      "source": [
        "regrossor=XGBRegressor()\n",
        "regrossor.fit(x_train,y_train)"
      ],
      "metadata": {
        "colab": {
          "base_uri": "https://localhost:8080/"
        },
        "id": "vVB-00TN_CmQ",
        "outputId": "cf1f29c2-a8f7-46f0-bfe1-063264331c1b"
      },
      "execution_count": 26,
      "outputs": [
        {
          "output_type": "stream",
          "name": "stdout",
          "text": [
            "[16:50:45] WARNING: /workspace/src/objective/regression_obj.cu:152: reg:linear is now deprecated in favor of reg:squarederror.\n"
          ]
        },
        {
          "output_type": "execute_result",
          "data": {
            "text/plain": [
              "XGBRegressor()"
            ]
          },
          "metadata": {},
          "execution_count": 26
        }
      ]
    },
    {
      "cell_type": "code",
      "source": [
        "training_predication = regrossor.predict(x_train)\n",
        "r2_train = r2_score(y_train,training_predication)\n",
        "print(\"the error of training data is :\",r2_train)"
      ],
      "metadata": {
        "colab": {
          "base_uri": "https://localhost:8080/"
        },
        "id": "hmrPwHyg_gj1",
        "outputId": "80ac59e3-6125-4baa-a449-ac1358ff6aca"
      },
      "execution_count": 27,
      "outputs": [
        {
          "output_type": "stream",
          "name": "stdout",
          "text": [
            "the error of training data is : 0.9861754954225445\n"
          ]
        }
      ]
    },
    {
      "cell_type": "code",
      "source": [
        "test_predication = regrossor.predict(x_test)\n",
        "r2_test = r2_score(y_test,test_predication)\n",
        "print(\"the error of test is :\",r2_test)\n"
      ],
      "metadata": {
        "colab": {
          "base_uri": "https://localhost:8080/"
        },
        "id": "ODmXI4VM_kXS",
        "outputId": "48fe418b-b190-4956-d630-b8be3369f508"
      },
      "execution_count": 28,
      "outputs": [
        {
          "output_type": "stream",
          "name": "stdout",
          "text": [
            "the error of test is : 0.9768545049270835\n"
          ]
        }
      ]
    },
    {
      "cell_type": "markdown",
      "source": [
        " Random Forest Regressor"
      ],
      "metadata": {
        "id": "vHPFjaTVA_yw"
      }
    },
    {
      "cell_type": "code",
      "source": [
        "regressor=RandomForestRegressor(n_estimators=100)\n",
        "regressor.fit(x_train,y_train)"
      ],
      "metadata": {
        "colab": {
          "base_uri": "https://localhost:8080/"
        },
        "id": "9W-niJVYBJ9z",
        "outputId": "d760417e-6ae8-4582-8f31-fab83170c0d2"
      },
      "execution_count": 31,
      "outputs": [
        {
          "output_type": "execute_result",
          "data": {
            "text/plain": [
              "RandomForestRegressor()"
            ]
          },
          "metadata": {},
          "execution_count": 31
        }
      ]
    },
    {
      "cell_type": "code",
      "source": [
        "x_train,x_test,y_train,y_test=train_test_split(x,y,test_size=0.2,random_state=2)\n",
        "print(x_train.shape,x_test.shape,x.shape)"
      ],
      "metadata": {
        "colab": {
          "base_uri": "https://localhost:8080/"
        },
        "id": "1oPmVNpRCFza",
        "outputId": "44deb9e3-e2ed-4006-8ccc-55af09745ada"
      },
      "execution_count": 32,
      "outputs": [
        {
          "output_type": "stream",
          "name": "stdout",
          "text": [
            "(1832, 4) (458, 4) (2290, 4)\n"
          ]
        }
      ]
    },
    {
      "cell_type": "code",
      "source": [
        "test_pridication=regressor.predict(x_test)\n",
        "test_pridication"
      ],
      "metadata": {
        "colab": {
          "base_uri": "https://localhost:8080/"
        },
        "id": "p1OIQXilCQoH",
        "outputId": "49002297-a5b5-4c62-8816-aa8070c515f2"
      },
      "execution_count": 34,
      "outputs": [
        {
          "output_type": "execute_result",
          "data": {
            "text/plain": [
              "array([168.82579958,  82.01190007, 116.05420042, 127.59870086,\n",
              "       120.70360142, 154.86809783, 150.09249799, 126.27329995,\n",
              "       117.58599882, 126.05330083, 116.71130113, 171.09650098,\n",
              "       141.7417995 , 168.17869826, 115.04280014, 117.75260055,\n",
              "       138.15250243, 170.51260138, 159.31080227, 162.02269978,\n",
              "       154.97479987, 125.10469994, 175.53919948, 156.98920412,\n",
              "       125.25630034,  93.97319982,  77.98230023, 120.47249976,\n",
              "       119.14189948, 167.53949966,  88.13320085, 125.23259998,\n",
              "        91.08550088, 117.71330032, 121.18429909, 136.57500113,\n",
              "       115.49440124, 115.15180044, 147.7638997 , 107.69300077,\n",
              "       104.6484025 ,  87.32489772, 126.32930086, 117.80020017,\n",
              "       151.79449876, 119.67599969, 108.27770052, 108.02399767,\n",
              "        93.04720033, 127.12749789,  75.09860036, 113.6302993 ,\n",
              "       121.25660018, 111.39729935, 118.7454989 , 120.71389917,\n",
              "       159.29260044, 167.30110133, 147.06959669,  86.0640989 ,\n",
              "        94.44930021,  86.78939885,  90.65519991, 118.97840051,\n",
              "       126.42650095, 127.66880058, 170.321799  , 122.18679977,\n",
              "       117.50669885,  98.36100022, 168.36470069, 143.22949851,\n",
              "       131.82870261, 121.1576024 , 121.26599949, 119.74330067,\n",
              "       114.54850185, 118.36470039, 107.35660102, 127.96860013,\n",
              "       113.92260011, 107.68010005, 116.63260079, 119.62499891,\n",
              "        89.02340048,  88.19719877, 147.30250288, 127.3227002 ,\n",
              "       113.81359992, 109.78019842, 108.21159903,  77.81419874,\n",
              "       168.35340177, 114.04639911, 121.58869927, 128.03090129,\n",
              "       154.90339831,  91.73909936, 134.83410096, 159.48060225,\n",
              "       125.57140039, 125.50130039, 130.51930133, 114.83580133,\n",
              "       119.8229001 ,  92.08729979, 110.27699877, 168.96819902,\n",
              "       155.28619952, 114.15609937, 106.58140121,  79.17499986,\n",
              "       113.25410034, 125.81900074, 107.24889928, 119.60920099,\n",
              "       155.48160256, 159.83139947, 120.08      , 133.84960229,\n",
              "       101.25230007, 117.67849773, 119.48140019, 113.00000085,\n",
              "       102.74399888, 160.07389855,  99.07740042, 148.08129903,\n",
              "       125.67860127, 168.51579882, 125.72489868, 127.43059707,\n",
              "       127.4626013 , 113.6539993 , 112.94380075, 123.46929903,\n",
              "       102.16199921,  89.40670033, 124.44629966, 101.77849929,\n",
              "       107.0437992 , 113.04520087, 117.26620108,  99.19609976,\n",
              "       121.57960016, 163.18109944,  87.4589986 , 106.73689971,\n",
              "       117.43690076, 127.78320138, 124.18490092,  80.8336994 ,\n",
              "       120.32190081, 157.29429825,  87.97229982, 110.26679965,\n",
              "       118.7670989 , 171.14179894, 102.97729899, 105.86760017,\n",
              "       122.54090042, 157.68639787,  87.6878984 ,  93.56020022,\n",
              "       112.99450025, 177.32479939, 114.53459974, 119.41600019,\n",
              "        94.75730083, 125.89860013, 166.09910134, 114.67850046,\n",
              "       116.94690107,  88.28999871, 149.10450071, 120.51659922,\n",
              "        89.41619972, 112.02799998, 117.19680048, 118.83820127,\n",
              "        88.23899929,  94.18159995, 116.99359994, 118.40990207,\n",
              "       120.12450022, 126.86309839, 121.93229954, 151.20770016,\n",
              "       164.05730114, 118.41959957, 120.56200154, 151.79250048,\n",
              "       118.69939892, 171.98339924, 106.10119921, 104.96370142,\n",
              "       149.38290083, 113.59060118, 124.72800111, 147.13079976,\n",
              "       119.69060087, 115.36340056, 112.57699996, 113.31230223,\n",
              "       141.60800146, 117.79199765, 102.98400075, 115.82710133,\n",
              "       104.08170187,  98.60120044, 117.48440096,  90.63000006,\n",
              "        91.62560006, 153.49159886, 102.74740001, 155.0221008 ,\n",
              "       114.31430148, 139.13850145,  90.19229804, 115.52479943,\n",
              "       114.90629952, 123.09750059, 121.61760042, 165.54790138,\n",
              "        92.81289913, 135.77180147, 121.28629973, 120.72320118,\n",
              "       104.80790011, 141.35960285, 121.75769907, 116.69110058,\n",
              "       113.76850073, 127.27379755, 122.91269961, 125.76419925,\n",
              "       121.17710072,  86.93099865, 132.52600153, 144.45910187,\n",
              "        92.71679956, 157.58139932, 159.46570197, 126.43199883,\n",
              "       163.8883    , 109.14109955, 109.63110095, 103.58659819,\n",
              "        94.27720082, 127.44190255, 107.15440042, 160.48299922,\n",
              "       121.67540014, 132.04719988, 130.60960133, 160.89089991,\n",
              "        90.13069829, 174.80890142, 127.47910053, 126.82229862,\n",
              "        86.49299932, 124.48519972, 150.1864974 ,  89.6226    ,\n",
              "       106.90739964, 108.96919981,  84.53779859, 136.1233001 ,\n",
              "       155.14110182, 138.69850402,  74.15750019, 152.75860181,\n",
              "       126.05639962, 126.76010048, 127.51569901, 108.55829929,\n",
              "       156.39310052, 114.54230142, 116.98850136, 125.1098994 ,\n",
              "       153.92960105, 121.17069994, 156.3509993 ,  92.83360033,\n",
              "       125.58580137, 125.51250045,  87.76600041,  92.15869942,\n",
              "       126.36029934, 128.18470314, 113.08540023, 117.67319745,\n",
              "       120.77960065, 127.33049768, 119.84910098, 136.71870089,\n",
              "        93.87969943, 119.78930033, 113.17690093,  94.30729928,\n",
              "       108.90619964,  86.88929902, 109.09019917,  89.55209966,\n",
              "        92.35340017, 131.32500213, 162.66920129,  89.44229996,\n",
              "       119.5808008 , 133.29070193, 123.86160021, 128.20270201,\n",
              "       102.06049876,  89.15309851, 131.79180073, 120.05630016,\n",
              "       108.27490001, 166.85310091, 115.18940021,  86.63419874,\n",
              "       118.82970059,  90.99049991, 162.00390033, 116.69660067,\n",
              "       121.53000024, 159.88429808, 120.14119938, 112.88419961,\n",
              "       108.43779869, 126.66709911,  76.3391004 , 103.02529981,\n",
              "       127.3842026 , 121.89899955,  92.52549978, 131.96790002,\n",
              "       118.31250115, 116.17070016, 154.60550287, 159.77990114,\n",
              "       110.10149976, 155.68009743, 119.24720073, 160.56380147,\n",
              "       118.61899978, 157.49339986, 115.11859943, 116.75090035,\n",
              "       147.5088991 , 114.94670047, 125.91919887, 164.76649983,\n",
              "       117.73380021, 125.45769934, 153.14890337, 153.37340237,\n",
              "       132.16910075, 114.85269995, 121.18540208, 124.93360044,\n",
              "        89.94500025, 122.91560002, 154.9184024 , 111.84520044,\n",
              "       106.87859977, 161.87840168, 118.60570016, 165.67689969,\n",
              "       134.14100088, 114.76249949, 153.04359887, 168.73819993,\n",
              "       115.16260038, 114.1733011 , 160.33829899,  85.48429865,\n",
              "       127.09190055, 127.87040077, 128.96759946, 124.13370031,\n",
              "       123.90050106,  90.61270068, 153.19650025,  97.00039989,\n",
              "       136.92780015,  89.0387992 , 107.68970011, 115.03650049,\n",
              "       112.78700095, 124.26359938,  91.30309914, 125.44740135,\n",
              "       162.34189956, 119.95349889, 165.08670119, 126.79149843,\n",
              "       112.46050024, 127.48509935,  94.97569886,  91.24489982,\n",
              "       103.40889908, 120.82410005,  83.34499936, 126.37320006,\n",
              "       160.06140437, 117.34880097, 118.16620032, 119.92889985,\n",
              "       122.8699997 , 120.14900141, 121.55340027, 118.34650061,\n",
              "       107.02819962, 148.1138993 , 126.01559805, 115.75330084,\n",
              "        74.16910004, 127.75410095, 153.93600073, 122.11779976,\n",
              "       125.63220049,  88.89290014, 103.38009852, 124.69490073,\n",
              "       120.30110027,  73.52110079, 151.4021996 , 121.10470076,\n",
              "       104.60189992,  86.33609784, 115.0768991 , 172.20579854,\n",
              "       119.79330041, 160.00199875, 113.18499942, 121.06040039,\n",
              "       118.62440086,  95.91549987, 118.94899995, 125.94750022,\n",
              "       118.42459966,  96.0961007 , 153.86680168, 121.99490018,\n",
              "       147.40269987, 159.39370231, 113.97250047, 122.43629964,\n",
              "       149.981798  , 127.38890032, 165.70220019, 135.33040076,\n",
              "       120.02679981, 167.06689889, 108.38139974, 121.83999848,\n",
              "       140.12850101, 107.40379908])"
            ]
          },
          "metadata": {},
          "execution_count": 34
        }
      ]
    },
    {
      "cell_type": "code",
      "source": [
        "from sklearn.model_selection import ShuffleSplit\n",
        "from sklearn.model_selection import cross_val_score"
      ],
      "metadata": {
        "id": "WnchyfdJCi5N"
      },
      "execution_count": 38,
      "outputs": []
    },
    {
      "cell_type": "code",
      "source": [
        "cv = ShuffleSplit(n_splits=5,test_size=0.2,random_state=0)\n",
        "cross_val_score(RandomForestRegressor(),x,y,cv=cv)"
      ],
      "metadata": {
        "colab": {
          "base_uri": "https://localhost:8080/"
        },
        "id": "zX6nm5IlCcyN",
        "outputId": "2a1047a2-e953-400d-c06b-723dd436b7a0"
      },
      "execution_count": 39,
      "outputs": [
        {
          "output_type": "execute_result",
          "data": {
            "text/plain": [
              "array([0.99007168, 0.99224406, 0.98875725, 0.99290476, 0.98964005])"
            ]
          },
          "metadata": {},
          "execution_count": 39
        }
      ]
    },
    {
      "cell_type": "code",
      "source": [],
      "metadata": {
        "id": "baJs5ZkUC9j6"
      },
      "execution_count": null,
      "outputs": []
    }
  ]
}